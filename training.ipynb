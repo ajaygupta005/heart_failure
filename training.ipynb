{
 "cells": [
  {
   "cell_type": "code",
   "execution_count": 1,
   "id": "4635533c-8904-4597-ba9e-49a2266f6924",
   "metadata": {},
   "outputs": [],
   "source": [
    "##some scripts here\n"
   ]
  },
  {
   "cell_type": "code",
   "execution_count": null,
   "id": "c1b646de-d7cd-4ec2-9532-a95386203367",
   "metadata": {},
   "outputs": [],
   "source": []
  }
 ],
 "metadata": {
  "kernelspec": {
   "display_name": "Python 3 (ipykernel)",
   "language": "python",
   "name": "python3"
  },
  "language_info": {
   "codemirror_mode": {
    "name": "ipython",
    "version": 3
   },
   "file_extension": ".py",
   "mimetype": "text/x-python",
   "name": "python",
   "nbconvert_exporter": "python",
   "pygments_lexer": "ipython3",
   "version": "3.10.8"
  }
 },
 "nbformat": 4,
 "nbformat_minor": 5
}
