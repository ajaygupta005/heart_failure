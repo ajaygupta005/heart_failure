{
 "cells": [
  {
   "cell_type": "code",
   "execution_count": 1,
   "id": "6304449f-f960-4f58-8392-260cc6af057c",
   "metadata": {},
   "outputs": [],
   "source": [
    "#read this dataset"
   ]
  },
  {
   "cell_type": "code",
   "execution_count": null,
   "id": "057fb9b9-3ddf-4017-adba-89c26921e983",
   "metadata": {},
   "outputs": [],
   "source": [
    "#What is the distribution of age among heart failure patients in the dataset\n",
    "\n",
    "\n",
    "##code to make a dist plot"
   ]
  },
  {
   "cell_type": "code",
   "execution_count": null,
   "id": "3e8f0af7-8375-4723-8fac-8760a6ae6976",
   "metadata": {},
   "outputs": [],
   "source": [
    "#´ How does the death rate vary with age\n",
    "\n",
    "\n",
    "#code\n",
    "#code\n",
    "\n",
    "\n",
    "#insights"
   ]
  },
  {
   "cell_type": "code",
   "execution_count": null,
   "id": "eca91f01-789f-4f76-a400-6fd652ecb108",
   "metadata": {},
   "outputs": [],
   "source": []
  }
 ],
 "metadata": {
  "kernelspec": {
   "display_name": "Python 3 (ipykernel)",
   "language": "python",
   "name": "python3"
  },
  "language_info": {
   "codemirror_mode": {
    "name": "ipython",
    "version": 3
   },
   "file_extension": ".py",
   "mimetype": "text/x-python",
   "name": "python",
   "nbconvert_exporter": "python",
   "pygments_lexer": "ipython3",
   "version": "3.10.8"
  }
 },
 "nbformat": 4,
 "nbformat_minor": 5
}
